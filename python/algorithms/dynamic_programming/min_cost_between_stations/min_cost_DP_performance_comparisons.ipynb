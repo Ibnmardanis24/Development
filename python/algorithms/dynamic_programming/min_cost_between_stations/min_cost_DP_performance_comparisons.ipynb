{
 "cells": [
  {
   "cell_type": "code",
   "execution_count": 1,
   "metadata": {
    "collapsed": true
   },
   "outputs": [],
   "source": [
    "from min_cost_between_stations import *"
   ]
  },
  {
   "cell_type": "code",
   "execution_count": 2,
   "metadata": {
    "collapsed": true
   },
   "outputs": [],
   "source": [
    "cost =  [\n",
    "            [0, 15, 80, 90],\n",
    "            [-1, 0, 40, 50],\n",
    "            [-1, -1, 0, 70],\n",
    "            [-1, -1, -1, 0]\n",
    "        ]\n",
    "m = MinCost(cost)"
   ]
  },
  {
   "cell_type": "code",
   "execution_count": 3,
   "metadata": {},
   "outputs": [
    {
     "name": "stdout",
     "output_type": "stream",
     "text": [
      "10000 loops, best of 3: 7.34 µs per loop\n"
     ]
    }
   ],
   "source": [
    "%timeit assert m.calculate_mincost(0, 3) == 65"
   ]
  },
  {
   "cell_type": "code",
   "execution_count": 4,
   "metadata": {},
   "outputs": [
    {
     "name": "stdout",
     "output_type": "stream",
     "text": [
      "The slowest run took 211.81 times longer than the fastest. This could mean that an intermediate result is being cached.\n",
      "10000 loops, best of 3: 17.6 µs per loop\n"
     ]
    }
   ],
   "source": [
    "%timeit m.generate_memoized_table()\n",
    "assert  m.calculate_mincost_memoized(0, 3) == 65"
   ]
  },
  {
   "cell_type": "code",
   "execution_count": 5,
   "metadata": {},
   "outputs": [
    {
     "name": "stdout",
     "output_type": "stream",
     "text": [
      "10000 loops, best of 3: 23.7 µs per loop\n"
     ]
    }
   ],
   "source": [
    "%timeit m.generate_dp_table()\n",
    "assert  m.calculate_mincost_DP(0, 3) == 65"
   ]
  },
  {
   "cell_type": "code",
   "execution_count": 6,
   "metadata": {},
   "outputs": [
    {
     "name": "stdout",
     "output_type": "stream",
     "text": [
      "The slowest run took 24.94 times longer than the fastest. This could mean that an intermediate result is being cached.\n",
      "100000 loops, best of 3: 5.01 µs per loop\n"
     ]
    }
   ],
   "source": [
    "%timeit m.generate_dp_table_from_start()\n",
    "assert  m.calculate_mincost_from_start_DP(3) == 65"
   ]
  },
  {
   "cell_type": "code",
   "execution_count": 7,
   "metadata": {
    "collapsed": true
   },
   "outputs": [],
   "source": [
    "cost = [\n",
    "        [0, 10, 75, 94],\n",
    "        [-1, 0, 35, 50],\n",
    "        [-1, -1, 0, 80],\n",
    "        [-1, -1, -1, 0]\n",
    "       ]\n",
    "\n",
    "m2 = MinCost(cost)"
   ]
  },
  {
   "cell_type": "code",
   "execution_count": 8,
   "metadata": {},
   "outputs": [
    {
     "name": "stdout",
     "output_type": "stream",
     "text": [
      "100000 loops, best of 3: 7.08 µs per loop\n"
     ]
    }
   ],
   "source": [
    "%timeit assert m2.calculate_mincost(0, 3) == 60"
   ]
  },
  {
   "cell_type": "code",
   "execution_count": 9,
   "metadata": {},
   "outputs": [
    {
     "name": "stdout",
     "output_type": "stream",
     "text": [
      "10000 loops, best of 3: 18.7 µs per loop\n"
     ]
    }
   ],
   "source": [
    "%timeit m2.generate_memoized_table()\n",
    "assert m2.calculate_mincost_memoized(0, 3) == 60"
   ]
  },
  {
   "cell_type": "code",
   "execution_count": 10,
   "metadata": {},
   "outputs": [
    {
     "name": "stdout",
     "output_type": "stream",
     "text": [
      "10000 loops, best of 3: 21.6 µs per loop\n"
     ]
    }
   ],
   "source": [
    "%timeit m2.generate_dp_table()\n",
    "assert m2.calculate_mincost_DP(0, 3) == 60"
   ]
  },
  {
   "cell_type": "code",
   "execution_count": 11,
   "metadata": {},
   "outputs": [
    {
     "name": "stdout",
     "output_type": "stream",
     "text": [
      "The slowest run took 4.27 times longer than the fastest. This could mean that an intermediate result is being cached.\n",
      "100000 loops, best of 3: 4.91 µs per loop\n"
     ]
    }
   ],
   "source": [
    "%timeit m2.generate_dp_table_from_start()\n",
    "assert m2.calculate_mincost_from_start_DP() == 60"
   ]
  }
 ],
 "metadata": {
  "kernelspec": {
   "display_name": "Python 2",
   "language": "python",
   "name": "python2"
  },
  "language_info": {
   "codemirror_mode": {
    "name": "ipython",
    "version": 2
   },
   "file_extension": ".py",
   "mimetype": "text/x-python",
   "name": "python",
   "nbconvert_exporter": "python",
   "pygments_lexer": "ipython2",
   "version": "2.7.13"
  }
 },
 "nbformat": 4,
 "nbformat_minor": 2
}
